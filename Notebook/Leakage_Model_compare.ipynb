{
 "cells": [
  {
   "cell_type": "code",
   "execution_count": 2,
   "id": "2f65f9ce",
   "metadata": {},
   "outputs": [],
   "source": [
    "import tensorflow as tf\n",
    "import numpy as np\n",
    "import pandas as pd\n",
    "import keras_tuner\n",
    "from tensorflow import keras\n",
    "from tensorflow.keras import layers\n",
    "import matplotlib.pyplot as plt\n",
    "import seaborn as sns"
   ]
  },
  {
   "cell_type": "code",
   "execution_count": 3,
   "id": "f1e52263",
   "metadata": {},
   "outputs": [],
   "source": [
    "leakage_dataset_train_100 = pd.read_csv(r\"D:\\Class\\FPDS\\FPDS_Final\\Leakage Detection\\leakage_dataset_train_100.csv\")\n",
    "leakage_dataset_train_1000 = pd.read_csv(r\"D:\\Class\\FPDS\\FPDS_Final\\Leakage Detection\\leakage_dataset_train_1000.csv\")\n",
    "leakage_dataset_validation_1000 = pd.read_csv(r\"D:\\Class\\FPDS\\FPDS_Final\\Leakage Detection\\leakage_dataset_validation_1000.csv\")"
   ]
  },
  {
   "cell_type": "code",
   "execution_count": 4,
   "id": "66664f8c",
   "metadata": {},
   "outputs": [],
   "source": [
    "X_train_100 = leakage_dataset_train_100[['mfc1', 'mfc2', 'mfc3', 'mfc4']].to_numpy()\n",
    "Y_train_100 = leakage_dataset_train_100[['y1', 'y2']].to_numpy()\n",
    "X_train_1000 = leakage_dataset_train_1000[['mfc1', 'mfc2', 'mfc3', 'mfc4']].to_numpy()\n",
    "Y_train_1000 = leakage_dataset_train_1000[['y1', 'y2']].to_numpy()"
   ]
  },
  {
   "cell_type": "code",
   "execution_count": 5,
   "id": "d11a0e9a",
   "metadata": {},
   "outputs": [],
   "source": [
    "X_validation = leakage_dataset_validation_1000[['mfc1', 'mfc2', 'mfc3', 'mfc4']].to_numpy()\n",
    "Y_validation = leakage_dataset_validation_1000[['y1', 'y2']].to_numpy()"
   ]
  },
  {
   "cell_type": "markdown",
   "id": "60a77d89",
   "metadata": {},
   "source": [
    "100 Training Data"
   ]
  },
  {
   "cell_type": "code",
   "execution_count": 6,
   "id": "63d74b82",
   "metadata": {},
   "outputs": [
    {
     "data": {
      "image/png": "[encoded data removed]",
      "text/plain": [
       "<Figure size 432x288 with 1 Axes>"
      ]
     },
     "metadata": {
      "needs_background": "light"
     },
     "output_type": "display_data"
    }
   ],
   "source": [
    "%matplotlib inline\n",
    "B_100 = plt.boxplot(X_train_100)\n",
    "plt.show()"
   ]
  },
  {
   "cell_type": "markdown",
   "id": "0a792b14",
   "metadata": {},
   "source": [
    "1000 Training Data"
   ]
  },
  {
   "cell_type": "code",
   "execution_count": 7,
   "id": "e72d3c1f",
   "metadata": {},
   "outputs": [
    {
     "data": {
      "image/png": "[encoded data removed]",
      "text/plain": [
       "<Figure size 432x288 with 1 Axes>"
      ]
     },
     "metadata": {
      "needs_background": "light"
     },
     "output_type": "display_data"
    }
   ],
   "source": [
    "%matplotlib inline\n",
    "B_1000 = plt.boxplot(X_train_1000)\n",
    "plt.show()"
   ]
  },
  {
   "cell_type": "markdown",
   "id": "60424c61",
   "metadata": {},
   "source": [
    "Validation Data"
   ]
  },
  {
   "cell_type": "code",
   "execution_count": 8,
   "id": "1c6e892a",
   "metadata": {},
   "outputs": [
    {
     "data": {
      "image/png": "[encoded data removed]",
      "text/plain": [
       "<Figure size 432x288 with 1 Axes>"
      ]
     },
     "metadata": {
      "needs_background": "light"
     },
     "output_type": "display_data"
    }
   ],
   "source": [
    "%matplotlib inline\n",
    "B1 = plt.boxplot(X_validation)\n",
    "plt.show()"
   ]
  },
  {
   "cell_type": "code",
   "execution_count": 9,
   "id": "acc68fda",
   "metadata": {},
   "outputs": [],
   "source": [
    "list_whisker_100 = [item.get_ydata() for item in B_100['whiskers']]\n",
    "list_whisker_1000 = [item.get_ydata() for item in B_1000['whiskers']]"
   ]
  },
  {
   "cell_type": "code",
   "execution_count": 10,
   "id": "3a28f9f8",
   "metadata": {},
   "outputs": [
    {
     "data": {
      "text/plain": [
       "[array([0.16234618, 0.05349716]),\n",
       " array([0.2993559 , 0.50403049]),\n",
       " array([0.16344416, 0.04891348]),\n",
       " array([0.29840857, 0.49760057]),\n",
       " array([0.16077478, 0.05659426]),\n",
       " array([0.28779415, 0.47630593]),\n",
       " array([0.16270096, 0.04941728]),\n",
       " array([0.29547214, 0.49441948])]"
      ]
     },
     "execution_count": 10,
     "metadata": {},
     "output_type": "execute_result"
    }
   ],
   "source": [
    "list_whisker_val = [item.get_ydata() for item in B1['whiskers']]\n",
    "list_whisker_val"
   ]
  },
  {
   "cell_type": "code",
   "execution_count": 11,
   "id": "438bf0dc",
   "metadata": {},
   "outputs": [
    {
     "data": {
      "text/plain": [
       "0.049464080536921334"
      ]
     },
     "execution_count": 11,
     "metadata": {},
     "output_type": "execute_result"
    }
   ],
   "source": [
    "diff1_100 = list_whisker_100[-2][1] - list_whisker_val[-2][1]\n",
    "diff2_100 = list_whisker_100[-1][1] - list_whisker_val[-1][1]\n",
    "diff_100 = (diff1_100+diff2_100)/2\n",
    "diff_100"
   ]
  },
  {
   "cell_type": "code",
   "execution_count": 12,
   "id": "b8c2b582",
   "metadata": {},
   "outputs": [
    {
     "data": {
      "text/plain": [
       "0.03721770183359886"
      ]
     },
     "execution_count": 12,
     "metadata": {},
     "output_type": "execute_result"
    }
   ],
   "source": [
    "diff1_1000 = list_whisker_1000[-2][1] - list_whisker_val[-2][1]\n",
    "diff2_1000 = list_whisker_1000[-1][1] - list_whisker_val[-1][1]\n",
    "diff_1000 = (diff1_1000+diff2_1000)/2\n",
    "diff_1000"
   ]
  },
  {
   "cell_type": "code",
   "execution_count": 13,
   "id": "5a128440",
   "metadata": {},
   "outputs": [],
   "source": [
    "X_train_100[:,-1] = X_train_100[:,-1] - diff_100\n",
    "X_train_100[:,:-1] = X_train_100[:,:-1] + diff_100/3"
   ]
  },
  {
   "cell_type": "code",
   "execution_count": 14,
   "id": "0b8298d3",
   "metadata": {},
   "outputs": [],
   "source": [
    "X_train_1000[:,-1] = X_train_1000[:,-1] - diff_1000\n",
    "X_train_1000[:,:-1] = X_train_1000[:,:-1] + diff_1000/3"
   ]
  },
  {
   "cell_type": "code",
   "execution_count": 15,
   "id": "31dfcb33",
   "metadata": {},
   "outputs": [
    {
     "data": {
      "image/png": "[encoded data removed]",
      "text/plain": [
       "<Figure size 432x288 with 1 Axes>"
      ]
     },
     "metadata": {
      "needs_background": "light"
     },
     "output_type": "display_data"
    },
    {
     "data": {
      "text/plain": [
       "[array([0.16752921, 0.08082586]),\n",
       " array([0.29602357, 0.46688912]),\n",
       " array([0.17575852, 0.07600533]),\n",
       " array([0.30909733, 0.48529949]),\n",
       " array([0.16726091, 0.06771229]),\n",
       " array([0.28902419, 0.44195381]),\n",
       " array([0.15093145, 0.06293813]),\n",
       " array([0.30708461, 0.48089863])]"
      ]
     },
     "execution_count": 15,
     "metadata": {},
     "output_type": "execute_result"
    }
   ],
   "source": [
    "%matplotlib inline\n",
    "B2_100 = plt.boxplot(X_train_100)\n",
    "plt.show()\n",
    "list_whisker_100_new = [item.get_ydata() for item in B2_100['whiskers']]\n",
    "list_whisker_100_new"
   ]
  },
  {
   "cell_type": "code",
   "execution_count": 16,
   "id": "76a9a968",
   "metadata": {},
   "outputs": [
    {
     "data": {
      "image/png": "[encoded data removed]",
      "text/plain": [
       "<Figure size 432x288 with 1 Axes>"
      ]
     },
     "metadata": {
      "needs_background": "light"
     },
     "output_type": "display_data"
    },
    {
     "data": {
      "text/plain": [
       "[array([0.16827194, 0.06186124]),\n",
       " array([0.28926838, 0.46653904]),\n",
       " array([0.16743962, 0.07285993]),\n",
       " array([0.29609926, 0.48693874]),\n",
       " array([0.16778484, 0.06038722]),\n",
       " array([0.30551592, 0.51107993]),\n",
       " array([0.1661108 , 0.06705603]),\n",
       " array([0.29130653, 0.47678073])]"
      ]
     },
     "execution_count": 16,
     "metadata": {},
     "output_type": "execute_result"
    }
   ],
   "source": [
    "%matplotlib inline\n",
    "B2_1000 = plt.boxplot(X_train_1000)\n",
    "plt.show()\n",
    "list_whisker_1000_new = [item.get_ydata() for item in B2_1000['whiskers']]\n",
    "list_whisker_1000_new"
   ]
  },
  {
   "cell_type": "markdown",
   "id": "5e426571",
   "metadata": {},
   "source": [
    "Implementing rotation via linear matrix operator"
   ]
  },
  {
   "cell_type": "code",
   "execution_count": 17,
   "id": "47c9f044",
   "metadata": {},
   "outputs": [],
   "source": [
    "def rotate90(x, y):\n",
    "    x_new = tf.gather(x, [3,0,1,2])\n",
    "    rotation_matrix = np.array([[0, -1], [1, 0]])\n",
    "    y_new = tf.squeeze(tf.matmul(tf.reshape(y, (1,2)), rotation_matrix))\n",
    "    return x_new, y_new\n",
    "\n",
    "def rotate180(x, y):\n",
    "    x_new = tf.gather(x, [2,3,0,1])\n",
    "    rotation_matrix = np.array([[-1, 0], [0, -1]])\n",
    "    y_new = tf.squeeze(tf.matmul(tf.reshape(y, (1,2)), rotation_matrix))\n",
    "    return x_new, y_new\n",
    "\n",
    "def rotate270(x, y):\n",
    "    x_new = tf.gather(x, [1,2,3,0])\n",
    "    rotation_matrix = np.array([[0, 1], [-1, 0]])\n",
    "    y_new = tf.squeeze(tf.matmul(tf.reshape(y, (1,2)), rotation_matrix))\n",
    "    return x_new, y_new\n",
    "\n",
    "def flip(x, y):\n",
    "    x_new = tf.gather(x, [1,0,3,2])\n",
    "    y_new = [y[0], -1*y[1]]\n",
    "    return x_new, y_new\n",
    "\n",
    "def flip90(x, y):\n",
    "    x_flipped, y_flipped = flip(x, y)\n",
    "    x_rotated, y_rotated = rotate90(x_flipped, y_flipped)\n",
    "    return x_rotated, y_rotated\n",
    "\n",
    "def flip180(x, y):\n",
    "    x_flipped, y_flipped = flip(x, y)\n",
    "    x_rotated, y_rotated = rotate180(x_flipped, y_flipped)\n",
    "    return x_rotated, y_rotated\n",
    "\n",
    "def flip270(x, y):\n",
    "    x_flipped, y_flipped = flip(x, y)\n",
    "    x_rotated, y_rotated = rotate270(x_flipped, y_flipped)\n",
    "    return x_rotated, y_rotated"
   ]
  },
  {
   "cell_type": "code",
   "execution_count": 18,
   "id": "705d0124",
   "metadata": {},
   "outputs": [],
   "source": [
    "dataset100 = tf.data.Dataset.from_tensor_slices((X_train_100, Y_train_100))\n",
    "dataset100_augmented = dataset100\n",
    "for augmentation in (rotate90, rotate180, rotate270, flip, flip90, flip180, flip270):\n",
    "    dataset_temp = dataset100.map(augmentation)\n",
    "    dataset100_augmented = dataset100_augmented.concatenate(dataset_temp)"
   ]
  },
  {
   "cell_type": "code",
   "execution_count": 19,
   "id": "5f6d0ebc",
   "metadata": {},
   "outputs": [],
   "source": [
    "dataset1000 = tf.data.Dataset.from_tensor_slices((X_train_1000, Y_train_1000))\n",
    "dataset1000_augmented = dataset1000\n",
    "for augmentation in (rotate90, rotate180, rotate270, flip, flip90, flip180, flip270):\n",
    "    dataset_temp = dataset1000.map(augmentation)\n",
    "    dataset1000_augmented = dataset1000_augmented.concatenate(dataset_temp)"
   ]
  },
  {
   "cell_type": "code",
   "execution_count": 20,
   "id": "a774017f",
   "metadata": {},
   "outputs": [
    {
     "data": {
      "text/plain": [
       "800"
      ]
     },
     "execution_count": 20,
     "metadata": {},
     "output_type": "execute_result"
    }
   ],
   "source": [
    "dataset100_augmented.cardinality().numpy()"
   ]
  },
  {
   "cell_type": "code",
   "execution_count": 21,
   "id": "4b2b1048",
   "metadata": {},
   "outputs": [
    {
     "data": {
      "text/plain": [
       "8000"
      ]
     },
     "execution_count": 21,
     "metadata": {},
     "output_type": "execute_result"
    }
   ],
   "source": [
    "dataset1000_augmented.cardinality().numpy()"
   ]
  },
  {
   "cell_type": "code",
   "execution_count": 22,
   "id": "1db7c40b",
   "metadata": {},
   "outputs": [],
   "source": [
    "X_train_augmented_100 = np.asarray([ x[0] for x in list(dataset100.as_numpy_iterator())])\n",
    "Y_train_augmented_100 = np.asarray([ x[1] for x in list(dataset100.as_numpy_iterator())])\n",
    "X_train_augmented_1000 = np.asarray([ x[0] for x in list(dataset1000.as_numpy_iterator())])\n",
    "Y_train_augmented_1000 = np.asarray([ x[1] for x in list(dataset1000.as_numpy_iterator())])"
   ]
  },
  {
   "cell_type": "code",
   "execution_count": 23,
   "id": "8c4b49e5",
   "metadata": {},
   "outputs": [],
   "source": [
    "model_standard_100 = tf.keras.models.load_model(r'D:\\Class\\FPDS\\FPDS_Final\\Model\\model_standard_[100].h5')"
   ]
  },
  {
   "cell_type": "code",
   "execution_count": 24,
   "id": "99da45ef",
   "metadata": {
    "scrolled": true
   },
   "outputs": [
    {
     "name": "stdout",
     "output_type": "stream",
     "text": [
      "Model: \"sequential\"\n",
      "_________________________________________________________________\n",
      " Layer (type)                Output Shape              Param #   \n",
      "=================================================================\n",
      " dense (Dense)               (None, 64)                320       \n",
      "                                                                 \n",
      " dense_1 (Dense)             (None, 64)                4160      \n",
      "                                                                 \n",
      " dense_2 (Dense)             (None, 2)                 130       \n",
      "                                                                 \n",
      "=================================================================\n",
      "Total params: 4,610\n",
      "Trainable params: 4,610\n",
      "Non-trainable params: 0\n",
      "_________________________________________________________________\n"
     ]
    }
   ],
   "source": [
    "model_standard_100.summary()"
   ]
  },
  {
   "cell_type": "code",
   "execution_count": 25,
   "id": "9ccb1057",
   "metadata": {},
   "outputs": [
    {
     "name": "stdout",
     "output_type": "stream",
     "text": [
      "Model: \"sequential\"\n",
      "_________________________________________________________________\n",
      " Layer (type)                Output Shape              Param #   \n",
      "=================================================================\n",
      " dense (Dense)               (None, 64)                320       \n",
      "                                                                 \n",
      " dense_1 (Dense)             (None, 64)                4160      \n",
      "                                                                 \n",
      " dense_2 (Dense)             (None, 2)                 130       \n",
      "                                                                 \n",
      "=================================================================\n",
      "Total params: 4,610\n",
      "Trainable params: 4,610\n",
      "Non-trainable params: 0\n",
      "_________________________________________________________________\n"
     ]
    }
   ],
   "source": [
    "model_standard_1000 = tf.keras.models.load_model(r'D:\\Class\\FPDS\\FPDS_Final\\Model\\model_standard_[1000].h5')\n",
    "model_standard_1000.summary()"
   ]
  },
  {
   "cell_type": "code",
   "execution_count": 27,
   "id": "2161cd52",
   "metadata": {},
   "outputs": [
    {
     "name": "stdout",
     "output_type": "stream",
     "text": [
      "Model: \"sequential\"\n",
      "_________________________________________________________________\n",
      " Layer (type)                Output Shape              Param #   \n",
      "=================================================================\n",
      " dense (Dense)               (None, 64)                320       \n",
      "                                                                 \n",
      " dense_1 (Dense)             (None, 64)                4160      \n",
      "                                                                 \n",
      " dense_2 (Dense)             (None, 2)                 130       \n",
      "                                                                 \n",
      "=================================================================\n",
      "Total params: 4,610\n",
      "Trainable params: 4,610\n",
      "Non-trainable params: 0\n",
      "_________________________________________________________________\n"
     ]
    }
   ],
   "source": [
    "model_standard_agumented_100 = tf.keras.models.load_model(r'D:\\Class\\FPDS\\FPDS_Final\\Model\\model_standard_augmented_[100].h5')\n",
    "model_standard_100.summary()"
   ]
  },
  {
   "cell_type": "markdown",
   "id": "a0b0adb0",
   "metadata": {},
   "source": [
    "For normailized data: val_loss: 0.0088 - val_mean_absolute_error: 0.0751\n",
    "For agumented Data(100): val_loss: 0.0084 - val_mean_absolute_error: 0.0728"
   ]
  },
  {
   "cell_type": "code",
   "execution_count": 28,
   "id": "e70f3969",
   "metadata": {},
   "outputs": [
    {
     "name": "stdout",
     "output_type": "stream",
     "text": [
      "Model: \"sequential\"\n",
      "_________________________________________________________________\n",
      " Layer (type)                Output Shape              Param #   \n",
      "=================================================================\n",
      " dense (Dense)               (None, 64)                320       \n",
      "                                                                 \n",
      " dense_1 (Dense)             (None, 64)                4160      \n",
      "                                                                 \n",
      " dense_2 (Dense)             (None, 2)                 130       \n",
      "                                                                 \n",
      "=================================================================\n",
      "Total params: 4,610\n",
      "Trainable params: 4,610\n",
      "Non-trainable params: 0\n",
      "_________________________________________________________________\n"
     ]
    }
   ],
   "source": [
    "model_standard_agumented_1000 = tf.keras.models.load_model(r'D:\\Class\\FPDS\\FPDS_Final\\Model\\model_standard_augmented_[1000].h5')\n",
    "model_standard_1000.summary()"
   ]
  },
  {
   "cell_type": "code",
   "execution_count": 30,
   "id": "d08f1f13",
   "metadata": {},
   "outputs": [
    {
     "ename": "NameError",
     "evalue": "name 'HiddenLayer' is not defined",
     "output_type": "error",
     "traceback": [
      "\u001b[1;31m---------------------------------------------------------------------------\u001b[0m",
      "\u001b[1;31mNameError\u001b[0m                                 Traceback (most recent call last)",
      "\u001b[1;32m~\\AppData\\Local\\Temp/ipykernel_18980/1533232125.py\u001b[0m in \u001b[0;36m<module>\u001b[1;34m\u001b[0m\n\u001b[0;32m      1\u001b[0m custom_objects = {\n\u001b[1;32m----> 2\u001b[1;33m     \u001b[1;34m\"HiddenLayer\"\u001b[0m\u001b[1;33m:\u001b[0m \u001b[0mHiddenLayer\u001b[0m\u001b[1;33m,\u001b[0m\u001b[1;33m\u001b[0m\u001b[1;33m\u001b[0m\u001b[0m\n\u001b[0m\u001b[0;32m      3\u001b[0m     \u001b[1;34m\"OutputLayer\"\u001b[0m\u001b[1;33m:\u001b[0m \u001b[0mOutputLayer\u001b[0m\u001b[1;33m,\u001b[0m\u001b[1;33m\u001b[0m\u001b[1;33m\u001b[0m\u001b[0m\n\u001b[0;32m      4\u001b[0m }\n\u001b[0;32m      5\u001b[0m \u001b[0mmodel_equivariant_100\u001b[0m \u001b[1;33m=\u001b[0m \u001b[0mtf\u001b[0m\u001b[1;33m.\u001b[0m\u001b[0mkeras\u001b[0m\u001b[1;33m.\u001b[0m\u001b[0mmodels\u001b[0m\u001b[1;33m.\u001b[0m\u001b[0mload_model\u001b[0m\u001b[1;33m(\u001b[0m\u001b[1;34mr'D:\\Class\\FPDS\\FPDS_Final\\Model\\model_equivariant_100.h5'\u001b[0m\u001b[1;33m,\u001b[0m\u001b[0mcustom_objects\u001b[0m\u001b[1;33m=\u001b[0m\u001b[0mcustom_objects\u001b[0m\u001b[1;33m)\u001b[0m\u001b[1;33m\u001b[0m\u001b[1;33m\u001b[0m\u001b[0m\n",
      "\u001b[1;31mNameError\u001b[0m: name 'HiddenLayer' is not defined"
     ]
    }
   ],
   "source": [
    "custom_objects = {\n",
    "    \"HiddenLayer\": HiddenLayer,\n",
    "    \"OutputLayer\": OutputLayer,\n",
    "}\n",
    "model_equivariant_100 = tf.keras.models.load_model(r'D:\\Class\\FPDS\\FPDS_Final\\Model\\model_equivariant_100.h5',custom_objects=custom_objects)"
   ]
  },
  {
   "cell_type": "code",
   "execution_count": null,
   "id": "673cf43d",
   "metadata": {},
   "outputs": [],
   "source": []
  }
 ],
 "metadata": {
  "kernelspec": {
   "display_name": "Python 3 (ipykernel)",
   "language": "python",
   "name": "python3"
  },
  "language_info": {
   "codemirror_mode": {
    "name": "ipython",
    "version": 3
   },
   "file_extension": ".py",
   "mimetype": "text/x-python",
   "name": "python",
   "nbconvert_exporter": "python",
   "pygments_lexer": "ipython3",
   "version": "3.8.0"
  }
 },
 "nbformat": 4,
 "nbformat_minor": 5
}
