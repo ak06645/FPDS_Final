{
 "cells": [
  {
   "cell_type": "code",
   "execution_count": 1,
   "id": "2f65f9ce",
   "metadata": {},
   "outputs": [],
   "source": [
    "import tensorflow as tf\n",
    "import numpy as np\n",
    "import pandas as pd\n",
    "import keras_tuner\n",
    "from tensorflow import keras\n",
    "from tensorflow.keras import layers\n",
    "import matplotlib.pyplot as plt\n",
    "import seaborn as sns"
   ]
  },
  {
   "cell_type": "code",
   "execution_count": 2,
   "id": "f1e52263",
   "metadata": {},
   "outputs": [],
   "source": [
    "leakage_dataset_train_100 = pd.read_csv(r\"Leakage Detection\\leakage_dataset_train_100.csv\")\n",
    "leakage_dataset_validation_1000 = pd.read_csv(r\"Leakage Detection\\leakage_dataset_validation_1000.csv\")"
   ]
  },
  {
   "cell_type": "code",
   "execution_count": 3,
   "id": "66664f8c",
   "metadata": {},
   "outputs": [],
   "source": [
    "X_train = leakage_dataset_train_100[['mfc1', 'mfc2', 'mfc3', 'mfc4']].to_numpy()\n",
    "Y_train = leakage_dataset_train_100[['y1', 'y2']].to_numpy()"
   ]
  },
  {
   "cell_type": "code",
   "execution_count": 4,
   "id": "d11a0e9a",
   "metadata": {},
   "outputs": [],
   "source": [
    "X_validation = leakage_dataset_validation_1000[['mfc1', 'mfc2', 'mfc3', 'mfc4']].to_numpy()\n",
    "Y_validation = leakage_dataset_validation_1000[['y1', 'y2']].to_numpy()"
   ]
  },
  {
   "cell_type": "code",
   "execution_count": 5,
   "id": "babf702a",
   "metadata": {},
   "outputs": [
    {
     "data": {
      "image/png": "[encoded data removed]",
      "text/plain": [
       "<Figure size 432x288 with 1 Axes>"
      ]
     },
     "metadata": {
      "needs_background": "light"
     },
     "output_type": "display_data"
    }
   ],
   "source": [
    "%matplotlib inline\n",
    "B = plt.boxplot(X_train)\n",
    "plt.show()"
   ]
  },
  {
   "cell_type": "code",
   "execution_count": 6,
   "id": "aeedb303",
   "metadata": {},
   "outputs": [
    {
     "data": {
      "text/plain": [
       "[array([0.15104118, 0.06433784]),\n",
       " array([0.27953555, 0.4504011 ]),\n",
       " array([0.15927049, 0.0595173 ]),\n",
       " array([0.2926093 , 0.46881146]),\n",
       " array([0.15077288, 0.05122426]),\n",
       " array([0.27253617, 0.42546578]),\n",
       " array([0.20039553, 0.11240221]),\n",
       " array([0.35654869, 0.53036271])]"
      ]
     },
     "execution_count": 6,
     "metadata": {},
     "output_type": "execute_result"
    }
   ],
   "source": [
    "list_whisker = [item.get_ydata() for item in B['whiskers']]\n",
    "list_whisker"
   ]
  },
  {
   "cell_type": "code",
   "execution_count": 7,
   "id": "84083c45",
   "metadata": {},
   "outputs": [
    {
     "data": {
      "image/png": "[encoded data removed]",
      "text/plain": [
       "<Figure size 432x288 with 1 Axes>"
      ]
     },
     "metadata": {
      "needs_background": "light"
     },
     "output_type": "display_data"
    }
   ],
   "source": [
    "%matplotlib inline\n",
    "B1 = plt.boxplot(X_validation)\n",
    "plt.show()"
   ]
  },
  {
   "cell_type": "code",
   "execution_count": 8,
   "id": "3a28f9f8",
   "metadata": {},
   "outputs": [
    {
     "data": {
      "text/plain": [
       "[array([0.16234618, 0.05349716]),\n",
       " array([0.2993559 , 0.50403049]),\n",
       " array([0.16344416, 0.04891348]),\n",
       " array([0.29840857, 0.49760057]),\n",
       " array([0.16077478, 0.05659426]),\n",
       " array([0.28779415, 0.47630593]),\n",
       " array([0.16270096, 0.04941728]),\n",
       " array([0.29547214, 0.49441948])]"
      ]
     },
     "execution_count": 8,
     "metadata": {},
     "output_type": "execute_result"
    }
   ],
   "source": [
    "list_whisker_val = [item.get_ydata() for item in B1['whiskers']]\n",
    "list_whisker_val"
   ]
  },
  {
   "cell_type": "code",
   "execution_count": 9,
   "id": "438bf0dc",
   "metadata": {},
   "outputs": [
    {
     "data": {
      "text/plain": [
       "0.049464080536921334"
      ]
     },
     "execution_count": 9,
     "metadata": {},
     "output_type": "execute_result"
    }
   ],
   "source": [
    "diff1 = list_whisker[-2][1] - list_whisker_val[-2][1]\n",
    "diff2 = list_whisker[-1][1] - list_whisker_val[-1][1]\n",
    "diff = (diff1+diff2)/2\n",
    "diff"
   ]
  },
  {
   "cell_type": "code",
   "execution_count": 10,
   "id": "5a128440",
   "metadata": {},
   "outputs": [],
   "source": [
    "X_train[:,-1] = X_train[:,-1] - diff\n",
    "X_train[:,:-1] = X_train[:,:-1] + diff/3"
   ]
  },
  {
   "cell_type": "code",
   "execution_count": 11,
   "id": "31dfcb33",
   "metadata": {},
   "outputs": [
    {
     "data": {
      "image/png": "[encoded data removed]",
      "text/plain": [
       "<Figure size 432x288 with 1 Axes>"
      ]
     },
     "metadata": {
      "needs_background": "light"
     },
     "output_type": "display_data"
    },
    {
     "data": {
      "text/plain": [
       "[array([0.16752921, 0.08082586]),\n",
       " array([0.29602357, 0.46688912]),\n",
       " array([0.17575852, 0.07600533]),\n",
       " array([0.30909733, 0.48529949]),\n",
       " array([0.16726091, 0.06771229]),\n",
       " array([0.28902419, 0.44195381]),\n",
       " array([0.15093145, 0.06293813]),\n",
       " array([0.30708461, 0.48089863])]"
      ]
     },
     "execution_count": 11,
     "metadata": {},
     "output_type": "execute_result"
    }
   ],
   "source": [
    "%matplotlib inline\n",
    "B2 = plt.boxplot(X_train)\n",
    "plt.show()\n",
    "list_whisker_new = [item.get_ydata() for item in B2['whiskers']]\n",
    "list_whisker_new"
   ]
  },
  {
   "cell_type": "markdown",
   "id": "5e426571",
   "metadata": {},
   "source": [
    "Implementing rotation via linear matrix operator"
   ]
  },
  {
   "cell_type": "code",
   "execution_count": 12,
   "id": "47c9f044",
   "metadata": {},
   "outputs": [],
   "source": [
    "def rotate90(x, y):\n",
    "    x_new = tf.gather(x, [3,0,1,2])\n",
    "    rotation_matrix = np.array([[0, -1], [1, 0]])\n",
    "    y_new = tf.squeeze(tf.matmul(tf.reshape(y, (1,2)), rotation_matrix))\n",
    "    return x_new, y_new\n",
    "\n",
    "def rotate180(x, y):\n",
    "    x_new = tf.gather(x, [2,3,0,1])\n",
    "    rotation_matrix = np.array([[-1, 0], [0, -1]])\n",
    "    y_new = tf.squeeze(tf.matmul(tf.reshape(y, (1,2)), rotation_matrix))\n",
    "    return x_new, y_new\n",
    "\n",
    "def rotate270(x, y):\n",
    "    x_new = tf.gather(x, [1,2,3,0])\n",
    "    rotation_matrix = np.array([[0, 1], [-1, 0]])\n",
    "    y_new = tf.squeeze(tf.matmul(tf.reshape(y, (1,2)), rotation_matrix))\n",
    "    return x_new, y_new\n",
    "\n",
    "def flip(x, y):\n",
    "    x_new = tf.gather(x, [1,0,3,2])\n",
    "    y_new = [y[0], -1*y[1]]\n",
    "    return x_new, y_new\n",
    "\n",
    "def flip90(x, y):\n",
    "    x_flipped, y_flipped = flip(x, y)\n",
    "    x_rotated, y_rotated = rotate90(x_flipped, y_flipped)\n",
    "    return x_rotated, y_rotated\n",
    "\n",
    "def flip180(x, y):\n",
    "    x_flipped, y_flipped = flip(x, y)\n",
    "    x_rotated, y_rotated = rotate180(x_flipped, y_flipped)\n",
    "    return x_rotated, y_rotated\n",
    "\n",
    "def flip270(x, y):\n",
    "    x_flipped, y_flipped = flip(x, y)\n",
    "    x_rotated, y_rotated = rotate270(x_flipped, y_flipped)\n",
    "    return x_rotated, y_rotated"
   ]
  },
  {
   "cell_type": "code",
   "execution_count": 14,
   "id": "705d0124",
   "metadata": {},
   "outputs": [],
   "source": [
    "dataset100 = tf.data.Dataset.from_tensor_slices((X_train, Y_train))\n",
    "dataset100_augmented = dataset100\n",
    "for augmentation in (rotate90, rotate180, rotate270, flip, flip90, flip180, flip270):\n",
    "    dataset_temp = dataset100.map(augmentation)\n",
    "    dataset100_augmented = dataset100_augmented.concatenate(dataset_temp)"
   ]
  },
  {
   "cell_type": "code",
   "execution_count": 15,
   "id": "a774017f",
   "metadata": {},
   "outputs": [
    {
     "data": {
      "text/plain": [
       "800"
      ]
     },
     "execution_count": 15,
     "metadata": {},
     "output_type": "execute_result"
    }
   ],
   "source": [
    "dataset100_augmented.cardinality().numpy()"
   ]
  },
  {
   "cell_type": "code",
   "execution_count": 46,
   "id": "1db7c40b",
   "metadata": {},
   "outputs": [],
   "source": [
    "X_train_augmented = np.asarray([ x[0] for x in list(dataset100.as_numpy_iterator())])\n",
    "Y_train_augmented = np.asarray([ x[1] for x in list(dataset100.as_numpy_iterator())])"
   ]
  },
  {
   "cell_type": "code",
   "execution_count": 49,
   "id": "a2c8fbd6",
   "metadata": {},
   "outputs": [],
   "source": [
    "tf.random.set_seed(42)\n",
    "class HiddenLayer(keras.layers.Layer):\n",
    "    def __init__(self,**kwargs):\n",
    "        super(HiddenLayer, self).__init__(**kwargs)\n",
    "    \n",
    "    def build(self, input_shape):\n",
    "        \n",
    "        initializer = tf.keras.initializers.RandomNormal(stddev=0.2)\n",
    "        self.a = self.add_weight(shape = (), initializer = initializer, trainable = True)\n",
    "        self.b = self.add_weight(shape = (), initializer = initializer, trainable = True)\n",
    "        self.c = self.add_weight(shape = (), initializer = initializer, trainable = True)\n",
    "\n",
    "    def call(self, inputs):\n",
    "        W1 = [[self.a, self.b, self.c, self.b],\n",
    "              [self.b, self.a, self.b, self.c],\n",
    "              [self.c, self.b, self.a, self.b],\n",
    "              [self.b, self.c, self.b, self.a]]\n",
    "        return tf.matmul(inputs, W1)"
   ]
  },
  {
   "cell_type": "code",
   "execution_count": 50,
   "id": "8f62da88",
   "metadata": {},
   "outputs": [],
   "source": [
    "tf.random.set_seed(42)\n",
    "class OutputLayer(keras.layers.Layer):\n",
    "    def __init__(self, **kwargs):\n",
    "        super(OutputLayer, self).__init__(**kwargs)\n",
    "\n",
    "    def build(self, input_shape):\n",
    "        \n",
    "        initializer = tf.keras.initializers.RandomNormal(stddev=0.2)\n",
    "        self.d = self.add_weight(shape = (), initializer = initializer, trainable = True)\n",
    "        \n",
    "    def call(self, inputs):\n",
    "        first_term = self.d * tf.reduce_sum(inputs * [1, -1, -1, 1], axis=1, keepdims=True)\n",
    "        second_term = self.d * tf.reduce_sum(inputs * [-1, -1, 1, 1], axis=1, keepdims=True)\n",
    "        return tf.concat([first_term, second_term], axis=1)"
   ]
  },
  {
   "cell_type": "code",
   "execution_count": 51,
   "id": "b31a18a3",
   "metadata": {},
   "outputs": [
    {
     "name": "stdout",
     "output_type": "stream",
     "text": [
      "Epoch 1/100\n"
     ]
    },
    {
     "name": "stderr",
     "output_type": "stream",
     "text": [
      "C:\\Users\\ak066\\AppData\\Roaming\\Python\\Python38\\site-packages\\keras\\initializers\\initializers_v2.py:120: UserWarning: The initializer RandomNormal is unseeded and being called multiple times, which will return identical values  each time (even if the initializer is unseeded). Please update your code to provide a seed to the initializer, or avoid using the same initalizer instance more than once.\n",
      "  warnings.warn(\n"
     ]
    },
    {
     "name": "stdout",
     "output_type": "stream",
     "text": [
      "4/4 [==============================] - 2s 97ms/step - loss: 0.3449 - mean_absolute_error: 0.5084 - val_loss: 0.3311 - val_mean_absolute_error: 0.5004\n",
      "Epoch 2/100\n",
      "4/4 [==============================] - 0s 32ms/step - loss: 0.3449 - mean_absolute_error: 0.5084 - val_loss: 0.3311 - val_mean_absolute_error: 0.5004\n",
      "Epoch 3/100\n",
      "4/4 [==============================] - 0s 33ms/step - loss: 0.3449 - mean_absolute_error: 0.5084 - val_loss: 0.3307 - val_mean_absolute_error: 0.5001\n",
      "Epoch 4/100\n",
      "4/4 [==============================] - 0s 28ms/step - loss: 0.3443 - mean_absolute_error: 0.5080 - val_loss: 0.3295 - val_mean_absolute_error: 0.4992\n",
      "Epoch 5/100\n",
      "4/4 [==============================] - 0s 30ms/step - loss: 0.3428 - mean_absolute_error: 0.5068 - val_loss: 0.3268 - val_mean_absolute_error: 0.4971\n",
      "Epoch 6/100\n",
      "4/4 [==============================] - 0s 25ms/step - loss: 0.3391 - mean_absolute_error: 0.5041 - val_loss: 0.3214 - val_mean_absolute_error: 0.4929\n",
      "Epoch 7/100\n",
      "4/4 [==============================] - 0s 29ms/step - loss: 0.3329 - mean_absolute_error: 0.4994 - val_loss: 0.3122 - val_mean_absolute_error: 0.4856\n",
      "Epoch 8/100\n",
      "4/4 [==============================] - 0s 42ms/step - loss: 0.3223 - mean_absolute_error: 0.4912 - val_loss: 0.2976 - val_mean_absolute_error: 0.4739\n",
      "Epoch 9/100\n",
      "4/4 [==============================] - 0s 42ms/step - loss: 0.3052 - mean_absolute_error: 0.4779 - val_loss: 0.2765 - val_mean_absolute_error: 0.4564\n",
      "Epoch 10/100\n",
      "4/4 [==============================] - 0s 27ms/step - loss: 0.2818 - mean_absolute_error: 0.4588 - val_loss: 0.2477 - val_mean_absolute_error: 0.4313\n",
      "Epoch 11/100\n",
      "4/4 [==============================] - 0s 25ms/step - loss: 0.2508 - mean_absolute_error: 0.4322 - val_loss: 0.2102 - val_mean_absolute_error: 0.3961\n",
      "Epoch 12/100\n",
      "4/4 [==============================] - 0s 31ms/step - loss: 0.2100 - mean_absolute_error: 0.3942 - val_loss: 0.1653 - val_mean_absolute_error: 0.3491\n",
      "Epoch 13/100\n",
      "4/4 [==============================] - 0s 31ms/step - loss: 0.1617 - mean_absolute_error: 0.3439 - val_loss: 0.1159 - val_mean_absolute_error: 0.2878\n",
      "Epoch 14/100\n",
      "4/4 [==============================] - 0s 35ms/step - loss: 0.1115 - mean_absolute_error: 0.2809 - val_loss: 0.0687 - val_mean_absolute_error: 0.2119\n",
      "Epoch 15/100\n",
      "4/4 [==============================] - 0s 35ms/step - loss: 0.0643 - mean_absolute_error: 0.2020 - val_loss: 0.0340 - val_mean_absolute_error: 0.1356\n",
      "Epoch 16/100\n",
      "4/4 [==============================] - 0s 27ms/step - loss: 0.0325 - mean_absolute_error: 0.1325 - val_loss: 0.0201 - val_mean_absolute_error: 0.1096\n",
      "Epoch 17/100\n",
      "4/4 [==============================] - 0s 30ms/step - loss: 0.0220 - mean_absolute_error: 0.1112 - val_loss: 0.0261 - val_mean_absolute_error: 0.1215\n",
      "Epoch 18/100\n",
      "4/4 [==============================] - 0s 28ms/step - loss: 0.0288 - mean_absolute_error: 0.1268 - val_loss: 0.0361 - val_mean_absolute_error: 0.1380\n",
      "Epoch 19/100\n",
      "4/4 [==============================] - 0s 31ms/step - loss: 0.0353 - mean_absolute_error: 0.1383 - val_loss: 0.0355 - val_mean_absolute_error: 0.1371\n",
      "Epoch 20/100\n",
      "4/4 [==============================] - 0s 33ms/step - loss: 0.0327 - mean_absolute_error: 0.1339 - val_loss: 0.0278 - val_mean_absolute_error: 0.1242\n",
      "Epoch 21/100\n",
      "4/4 [==============================] - 0s 32ms/step - loss: 0.0253 - mean_absolute_error: 0.1203 - val_loss: 0.0217 - val_mean_absolute_error: 0.1135\n"
     ]
    },
    {
     "data": {
      "text/plain": [
       "<keras.callbacks.History at 0x1eea90481f0>"
      ]
     },
     "execution_count": 51,
     "metadata": {},
     "output_type": "execute_result"
    }
   ],
   "source": [
    "#Defining the Model \n",
    "model_equivariant = tf.keras.Sequential()\n",
    "model_equivariant.add(HiddenLayer())\n",
    "model_equivariant.add(HiddenLayer())\n",
    "model_equivariant.add(OutputLayer())\n",
    "\n",
    "stop_early = tf.keras.callbacks.EarlyStopping(monitor='val_loss', patience=5)\n",
    "\n",
    "model_equivariant.compile(optimizer=tf.keras.optimizers.Adam(learning_rate=0.01),\n",
    "                loss='mean_squared_error',\n",
    "                metrics=['mean_absolute_error'])\n",
    "model_equivariant.fit(X_train_augmented, Y_train_augmented, epochs=100, batch_size=32, validation_data=(X_validation, Y_validation), callbacks=[stop_early])"
   ]
  },
  {
   "cell_type": "code",
   "execution_count": 52,
   "id": "210b8604",
   "metadata": {},
   "outputs": [
    {
     "name": "stdout",
     "output_type": "stream",
     "text": [
      "Model: \"sequential\"\n",
      "_________________________________________________________________\n",
      " Layer (type)                Output Shape              Param #   \n",
      "=================================================================\n",
      " hidden_layer (HiddenLayer)  (None, 4)                 3         \n",
      "                                                                 \n",
      " hidden_layer_1 (HiddenLayer  (None, 4)                3         \n",
      " )                                                               \n",
      "                                                                 \n",
      " output_layer (OutputLayer)  (None, 2)                 1         \n",
      "                                                                 \n",
      "=================================================================\n",
      "Total params: 7\n",
      "Trainable params: 7\n",
      "Non-trainable params: 0\n",
      "_________________________________________________________________\n"
     ]
    }
   ],
   "source": [
    "model_equivariant.summary()"
   ]
  },
  {
   "cell_type": "code",
   "execution_count": 19,
   "id": "a6a54fc3",
   "metadata": {},
   "outputs": [
    {
     "name": "stdout",
     "output_type": "stream",
     "text": [
      "{'name': 'hidden_layer', 'trainable': True, 'dtype': 'float32'} [0.61037385, -0.10241961, -0.8150131]\n",
      "{'name': 'hidden_layer_1', 'trainable': True, 'dtype': 'float32'} [0.73451215, 0.023153387, -0.6882054]\n",
      "{'name': 'output_layer', 'trainable': True, 'dtype': 'float32'} [-0.85360867]\n"
     ]
    }
   ],
   "source": [
    "for layer in model_equivariant.layers: print(layer.get_config(), layer.get_weights())"
   ]
  },
  {
   "cell_type": "code",
   "execution_count": 53,
   "id": "e70f3969",
   "metadata": {},
   "outputs": [
    {
     "ename": "ValueError",
     "evalue": "Unable to create dataset (name already exists)",
     "output_type": "error",
     "traceback": [
      "\u001b[1;31m---------------------------------------------------------------------------\u001b[0m",
      "\u001b[1;31mValueError\u001b[0m                                Traceback (most recent call last)",
      "\u001b[1;32m~\\AppData\\Local\\Temp/ipykernel_15756/531199784.py\u001b[0m in \u001b[0;36m<module>\u001b[1;34m\u001b[0m\n\u001b[1;32m----> 1\u001b[1;33m \u001b[0mmodel_equivariant\u001b[0m\u001b[1;33m.\u001b[0m\u001b[0msave\u001b[0m\u001b[1;33m(\u001b[0m\u001b[1;34m'model_equivariant_augmented.h5'\u001b[0m\u001b[1;33m)\u001b[0m\u001b[1;33m\u001b[0m\u001b[1;33m\u001b[0m\u001b[0m\n\u001b[0m",
      "\u001b[1;32m~\\AppData\\Roaming\\Python\\Python38\\site-packages\\keras\\utils\\traceback_utils.py\u001b[0m in \u001b[0;36merror_handler\u001b[1;34m(*args, **kwargs)\u001b[0m\n\u001b[0;32m     68\u001b[0m             \u001b[1;31m# To get the full stack trace, call:\u001b[0m\u001b[1;33m\u001b[0m\u001b[1;33m\u001b[0m\u001b[1;33m\u001b[0m\u001b[0m\n\u001b[0;32m     69\u001b[0m             \u001b[1;31m# `tf.debugging.disable_traceback_filtering()`\u001b[0m\u001b[1;33m\u001b[0m\u001b[1;33m\u001b[0m\u001b[1;33m\u001b[0m\u001b[0m\n\u001b[1;32m---> 70\u001b[1;33m             \u001b[1;32mraise\u001b[0m \u001b[0me\u001b[0m\u001b[1;33m.\u001b[0m\u001b[0mwith_traceback\u001b[0m\u001b[1;33m(\u001b[0m\u001b[0mfiltered_tb\u001b[0m\u001b[1;33m)\u001b[0m \u001b[1;32mfrom\u001b[0m \u001b[1;32mNone\u001b[0m\u001b[1;33m\u001b[0m\u001b[1;33m\u001b[0m\u001b[0m\n\u001b[0m\u001b[0;32m     71\u001b[0m         \u001b[1;32mfinally\u001b[0m\u001b[1;33m:\u001b[0m\u001b[1;33m\u001b[0m\u001b[1;33m\u001b[0m\u001b[0m\n\u001b[0;32m     72\u001b[0m             \u001b[1;32mdel\u001b[0m \u001b[0mfiltered_tb\u001b[0m\u001b[1;33m\u001b[0m\u001b[1;33m\u001b[0m\u001b[0m\n",
      "\u001b[1;32m~\\AppData\\Roaming\\Python\\Python38\\site-packages\\h5py\\_hl\\group.py\u001b[0m in \u001b[0;36mcreate_dataset\u001b[1;34m(self, name, shape, dtype, data, **kwds)\u001b[0m\n\u001b[0;32m    159\u001b[0m                     \u001b[0mgroup\u001b[0m \u001b[1;33m=\u001b[0m \u001b[0mself\u001b[0m\u001b[1;33m.\u001b[0m\u001b[0mrequire_group\u001b[0m\u001b[1;33m(\u001b[0m\u001b[0mparent_path\u001b[0m\u001b[1;33m)\u001b[0m\u001b[1;33m\u001b[0m\u001b[1;33m\u001b[0m\u001b[0m\n\u001b[0;32m    160\u001b[0m \u001b[1;33m\u001b[0m\u001b[0m\n\u001b[1;32m--> 161\u001b[1;33m             \u001b[0mdsid\u001b[0m \u001b[1;33m=\u001b[0m \u001b[0mdataset\u001b[0m\u001b[1;33m.\u001b[0m\u001b[0mmake_new_dset\u001b[0m\u001b[1;33m(\u001b[0m\u001b[0mgroup\u001b[0m\u001b[1;33m,\u001b[0m \u001b[0mshape\u001b[0m\u001b[1;33m,\u001b[0m \u001b[0mdtype\u001b[0m\u001b[1;33m,\u001b[0m \u001b[0mdata\u001b[0m\u001b[1;33m,\u001b[0m \u001b[0mname\u001b[0m\u001b[1;33m,\u001b[0m \u001b[1;33m**\u001b[0m\u001b[0mkwds\u001b[0m\u001b[1;33m)\u001b[0m\u001b[1;33m\u001b[0m\u001b[1;33m\u001b[0m\u001b[0m\n\u001b[0m\u001b[0;32m    162\u001b[0m             \u001b[0mdset\u001b[0m \u001b[1;33m=\u001b[0m \u001b[0mdataset\u001b[0m\u001b[1;33m.\u001b[0m\u001b[0mDataset\u001b[0m\u001b[1;33m(\u001b[0m\u001b[0mdsid\u001b[0m\u001b[1;33m)\u001b[0m\u001b[1;33m\u001b[0m\u001b[1;33m\u001b[0m\u001b[0m\n\u001b[0;32m    163\u001b[0m             \u001b[1;32mreturn\u001b[0m \u001b[0mdset\u001b[0m\u001b[1;33m\u001b[0m\u001b[1;33m\u001b[0m\u001b[0m\n",
      "\u001b[1;32m~\\AppData\\Roaming\\Python\\Python38\\site-packages\\h5py\\_hl\\dataset.py\u001b[0m in \u001b[0;36mmake_new_dset\u001b[1;34m(parent, shape, dtype, data, name, chunks, compression, shuffle, fletcher32, maxshape, compression_opts, fillvalue, scaleoffset, track_times, external, track_order, dcpl, dapl, efile_prefix, virtual_prefix, allow_unknown_filter)\u001b[0m\n\u001b[0;32m    154\u001b[0m \u001b[1;33m\u001b[0m\u001b[0m\n\u001b[0;32m    155\u001b[0m \u001b[1;33m\u001b[0m\u001b[0m\n\u001b[1;32m--> 156\u001b[1;33m     \u001b[0mdset_id\u001b[0m \u001b[1;33m=\u001b[0m \u001b[0mh5d\u001b[0m\u001b[1;33m.\u001b[0m\u001b[0mcreate\u001b[0m\u001b[1;33m(\u001b[0m\u001b[0mparent\u001b[0m\u001b[1;33m.\u001b[0m\u001b[0mid\u001b[0m\u001b[1;33m,\u001b[0m \u001b[0mname\u001b[0m\u001b[1;33m,\u001b[0m \u001b[0mtid\u001b[0m\u001b[1;33m,\u001b[0m \u001b[0msid\u001b[0m\u001b[1;33m,\u001b[0m \u001b[0mdcpl\u001b[0m\u001b[1;33m=\u001b[0m\u001b[0mdcpl\u001b[0m\u001b[1;33m,\u001b[0m \u001b[0mdapl\u001b[0m\u001b[1;33m=\u001b[0m\u001b[0mdapl\u001b[0m\u001b[1;33m)\u001b[0m\u001b[1;33m\u001b[0m\u001b[1;33m\u001b[0m\u001b[0m\n\u001b[0m\u001b[0;32m    157\u001b[0m \u001b[1;33m\u001b[0m\u001b[0m\n\u001b[0;32m    158\u001b[0m     \u001b[1;32mif\u001b[0m \u001b[1;33m(\u001b[0m\u001b[0mdata\u001b[0m \u001b[1;32mis\u001b[0m \u001b[1;32mnot\u001b[0m \u001b[1;32mNone\u001b[0m\u001b[1;33m)\u001b[0m \u001b[1;32mand\u001b[0m \u001b[1;33m(\u001b[0m\u001b[1;32mnot\u001b[0m \u001b[0misinstance\u001b[0m\u001b[1;33m(\u001b[0m\u001b[0mdata\u001b[0m\u001b[1;33m,\u001b[0m \u001b[0mEmpty\u001b[0m\u001b[1;33m)\u001b[0m\u001b[1;33m)\u001b[0m\u001b[1;33m:\u001b[0m\u001b[1;33m\u001b[0m\u001b[1;33m\u001b[0m\u001b[0m\n",
      "\u001b[1;32mh5py\\_objects.pyx\u001b[0m in \u001b[0;36mh5py._objects.with_phil.wrapper\u001b[1;34m()\u001b[0m\n",
      "\u001b[1;32mh5py\\_objects.pyx\u001b[0m in \u001b[0;36mh5py._objects.with_phil.wrapper\u001b[1;34m()\u001b[0m\n",
      "\u001b[1;32mh5py\\h5d.pyx\u001b[0m in \u001b[0;36mh5py.h5d.create\u001b[1;34m()\u001b[0m\n",
      "\u001b[1;31mValueError\u001b[0m: Unable to create dataset (name already exists)"
     ]
    }
   ],
   "source": [
    "model_equivariant.save('model_equivariant_augmented.h5')"
   ]
  },
  {
   "cell_type": "code",
   "execution_count": null,
   "id": "5f9a83de",
   "metadata": {},
   "outputs": [],
   "source": []
  }
 ],
 "metadata": {
  "kernelspec": {
   "display_name": "Python 3 (ipykernel)",
   "language": "python",
   "name": "python3"
  },
  "language_info": {
   "codemirror_mode": {
    "name": "ipython",
    "version": 3
   },
   "file_extension": ".py",
   "mimetype": "text/x-python",
   "name": "python",
   "nbconvert_exporter": "python",
   "pygments_lexer": "ipython3",
   "version": "3.8.0"
  }
 },
 "nbformat": 4,
 "nbformat_minor": 5
}
