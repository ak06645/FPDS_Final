{
 "cells": [
  {
   "cell_type": "code",
   "execution_count": 109,
   "id": "2f65f9ce",
   "metadata": {},
   "outputs": [],
   "source": [
    "import tensorflow as tf\n",
    "import numpy as np\n",
    "import pandas as pd\n",
    "import keras_tuner\n",
    "from tensorflow import keras\n",
    "from tensorflow.keras import layers\n",
    "import matplotlib.pyplot as plt\n",
    "import seaborn as sns"
   ]
  },
  {
   "cell_type": "code",
   "execution_count": 110,
   "id": "f1e52263",
   "metadata": {},
   "outputs": [],
   "source": [
    "leakage_dataset_train_100 = pd.read_csv(r\"Leakage Detection\\leakage_dataset_train_100.csv\")\n",
    "#leakage_dataset_train_1000 = pd.read_csv(r\"Leakage Detection\\leakage_dataset_train_1000.csv\")\n",
    "leakage_dataset_validation_1000 = pd.read_csv(r\"Leakage Detection\\leakage_dataset_validation_1000.csv\")"
   ]
  },
  {
   "cell_type": "code",
   "execution_count": 111,
   "id": "66664f8c",
   "metadata": {},
   "outputs": [],
   "source": [
    "X_train = leakage_dataset_train_100[['mfc1', 'mfc2', 'mfc3', 'mfc4']].to_numpy()\n",
    "Y_train = leakage_dataset_train_100[['y1', 'y2']].to_numpy()"
   ]
  },
  {
   "cell_type": "code",
   "execution_count": 112,
   "id": "d11a0e9a",
   "metadata": {},
   "outputs": [],
   "source": [
    "X_validation = leakage_dataset_validation_1000[['mfc1', 'mfc2', 'mfc3', 'mfc4']].to_numpy()\n",
    "Y_validation = leakage_dataset_validation_1000[['y1', 'y2']].to_numpy()"
   ]
  },
  {
   "cell_type": "code",
   "execution_count": 113,
   "id": "5204e083",
   "metadata": {},
   "outputs": [
    {
     "data": {
      "text/plain": [
       "y1      0\n",
       "y2      0\n",
       "mfc1    0\n",
       "mfc2    0\n",
       "mfc3    0\n",
       "mfc4    0\n",
       "dtype: int64"
      ]
     },
     "execution_count": 113,
     "metadata": {},
     "output_type": "execute_result"
    }
   ],
   "source": [
    "leakage_dataset_train_100.isnull().sum()"
   ]
  },
  {
   "cell_type": "code",
   "execution_count": 114,
   "id": "a1ac842f",
   "metadata": {},
   "outputs": [
    {
     "data": {
      "text/plain": [
       "Text(0.5, 0, 'Data')"
      ]
     },
     "execution_count": 114,
     "metadata": {},
     "output_type": "execute_result"
    },
    {
     "data": {
      "image/png": "[encoded data removed]",
      "text/plain": [
       "<Figure size 432x288 with 1 Axes>"
      ]
     },
     "metadata": {
      "needs_background": "light"
     },
     "output_type": "display_data"
    }
   ],
   "source": [
    "plt.hist(X_train)\n",
    "plt.ylabel('Number of data')\n",
    "plt.xlabel('Data')"
   ]
  },
  {
   "cell_type": "code",
   "execution_count": 115,
   "id": "babf702a",
   "metadata": {},
   "outputs": [
    {
     "name": "stdout",
     "output_type": "stream",
     "text": [
      "WARNING:tensorflow:Detecting that an object or model or tf.train.Checkpoint is being deleted with unrestored values. See the following logs for the specific values in question. To silence these warnings, use `status.expect_partial()`. See https://www.tensorflow.org/api_docs/python/tf/train/Checkpoint#restorefor details about the status object returned by the restore function.\n",
      "WARNING:tensorflow:Value in checkpoint could not be found in the restored object: (root).layer_with_weights-0.kernel\n",
      "WARNING:tensorflow:Value in checkpoint could not be found in the restored object: (root).layer_with_weights-0.bias\n",
      "WARNING:tensorflow:Value in checkpoint could not be found in the restored object: (root).layer_with_weights-1.kernel\n",
      "WARNING:tensorflow:Value in checkpoint could not be found in the restored object: (root).layer_with_weights-1.bias\n",
      "WARNING:tensorflow:Value in checkpoint could not be found in the restored object: (root).optimizer._variables.1\n",
      "WARNING:tensorflow:Value in checkpoint could not be found in the restored object: (root).optimizer._variables.2\n",
      "WARNING:tensorflow:Value in checkpoint could not be found in the restored object: (root).optimizer._variables.3\n",
      "WARNING:tensorflow:Value in checkpoint could not be found in the restored object: (root).optimizer._variables.4\n",
      "WARNING:tensorflow:Value in checkpoint could not be found in the restored object: (root).optimizer._variables.5\n",
      "WARNING:tensorflow:Value in checkpoint could not be found in the restored object: (root).optimizer._variables.6\n",
      "WARNING:tensorflow:Value in checkpoint could not be found in the restored object: (root).optimizer._variables.7\n",
      "WARNING:tensorflow:Value in checkpoint could not be found in the restored object: (root).optimizer._variables.8\n"
     ]
    },
    {
     "data": {
      "image/png": "[encoded data removed]",
      "text/plain": [
       "<Figure size 432x288 with 1 Axes>"
      ]
     },
     "metadata": {
      "needs_background": "light"
     },
     "output_type": "display_data"
    }
   ],
   "source": [
    "%matplotlib inline\n",
    "B = plt.boxplot(X_train)\n",
    "plt.show()"
   ]
  },
  {
   "cell_type": "code",
   "execution_count": 116,
   "id": "aeedb303",
   "metadata": {},
   "outputs": [
    {
     "data": {
      "text/plain": [
       "[array([0.15104118, 0.06433784]),\n",
       " array([0.27953555, 0.4504011 ]),\n",
       " array([0.15927049, 0.0595173 ]),\n",
       " array([0.2926093 , 0.46881146]),\n",
       " array([0.15077288, 0.05122426]),\n",
       " array([0.27253617, 0.42546578]),\n",
       " array([0.20039553, 0.11240221]),\n",
       " array([0.35654869, 0.53036271])]"
      ]
     },
     "execution_count": 116,
     "metadata": {},
     "output_type": "execute_result"
    }
   ],
   "source": [
    "list_whisker = [item.get_ydata() for item in B['whiskers']]\n",
    "list_whisker"
   ]
  },
  {
   "cell_type": "code",
   "execution_count": 117,
   "id": "84083c45",
   "metadata": {},
   "outputs": [
    {
     "data": {
      "image/png": "[encoded data removed]",
      "text/plain": [
       "<Figure size 432x288 with 1 Axes>"
      ]
     },
     "metadata": {
      "needs_background": "light"
     },
     "output_type": "display_data"
    }
   ],
   "source": [
    "%matplotlib inline\n",
    "B1 = plt.boxplot(X_validation)\n",
    "plt.show()"
   ]
  },
  {
   "cell_type": "code",
   "execution_count": 118,
   "id": "3a28f9f8",
   "metadata": {},
   "outputs": [
    {
     "data": {
      "text/plain": [
       "[array([0.16234618, 0.05349716]),\n",
       " array([0.2993559 , 0.50403049]),\n",
       " array([0.16344416, 0.04891348]),\n",
       " array([0.29840857, 0.49760057]),\n",
       " array([0.16077478, 0.05659426]),\n",
       " array([0.28779415, 0.47630593]),\n",
       " array([0.16270096, 0.04941728]),\n",
       " array([0.29547214, 0.49441948])]"
      ]
     },
     "execution_count": 118,
     "metadata": {},
     "output_type": "execute_result"
    }
   ],
   "source": [
    "list_whisker_val = [item.get_ydata() for item in B1['whiskers']]\n",
    "list_whisker_val"
   ]
  },
  {
   "cell_type": "code",
   "execution_count": 119,
   "id": "438bf0dc",
   "metadata": {},
   "outputs": [
    {
     "data": {
      "text/plain": [
       "0.049464080536921334"
      ]
     },
     "execution_count": 119,
     "metadata": {},
     "output_type": "execute_result"
    }
   ],
   "source": [
    "diff1 = list_whisker[-2][1] - list_whisker_val[-2][1]\n",
    "diff2 = list_whisker[-1][1] - list_whisker_val[-1][1]\n",
    "diff = (diff1+diff2)/2\n",
    "diff"
   ]
  },
  {
   "cell_type": "code",
   "execution_count": 120,
   "id": "5a128440",
   "metadata": {},
   "outputs": [],
   "source": [
    "X_train[:,-1] = X_train[:,-1] - diff\n",
    "X_train[:,:-1] = X_train[:,:-1] + diff/3"
   ]
  },
  {
   "cell_type": "code",
   "execution_count": 121,
   "id": "31dfcb33",
   "metadata": {},
   "outputs": [
    {
     "data": {
      "image/png": "[encoded data removed]",
      "text/plain": [
       "<Figure size 432x288 with 1 Axes>"
      ]
     },
     "metadata": {
      "needs_background": "light"
     },
     "output_type": "display_data"
    },
    {
     "data": {
      "text/plain": [
       "[array([0.16752921, 0.08082586]),\n",
       " array([0.29602357, 0.46688912]),\n",
       " array([0.17575852, 0.07600533]),\n",
       " array([0.30909733, 0.48529949]),\n",
       " array([0.16726091, 0.06771229]),\n",
       " array([0.28902419, 0.44195381]),\n",
       " array([0.15093145, 0.06293813]),\n",
       " array([0.30708461, 0.48089863])]"
      ]
     },
     "execution_count": 121,
     "metadata": {},
     "output_type": "execute_result"
    }
   ],
   "source": [
    "%matplotlib inline\n",
    "B2 = plt.boxplot(X_train)\n",
    "plt.show()\n",
    "list_whisker_new = [item.get_ydata() for item in B2['whiskers']]\n",
    "list_whisker_new"
   ]
  },
  {
   "cell_type": "code",
   "execution_count": 122,
   "id": "b533e4a9",
   "metadata": {},
   "outputs": [],
   "source": [
    "# count = 0\n",
    "# lower_whisker = 0\n",
    "# upper_whisker = 0\n",
    "# for i in list_whisker[:-2]:\n",
    "#     if count%2 == 0:\n",
    "#         lower_whisker = lower_whisker + i[1]\n",
    "#     if count%2 != 0:\n",
    "#         upper_whisker += i[1]\n",
    "#     count += 1\n",
    "    \n",
    "# lower_whisker = lower_whisker/3\n",
    "# upper_whisker = upper_whisker/3\n",
    "\n",
    "# print(lower_whisker)\n",
    "# print(upper_whisker)"
   ]
  },
  {
   "cell_type": "code",
   "execution_count": 123,
   "id": "14fe142b",
   "metadata": {},
   "outputs": [],
   "source": [
    "# diff_lower_whisker = list_whisker[-2][1] - lower_whisker\n",
    "# diff_lower_whisker = float(\"{:10.9f}\".format(diff_lower_whisker))\n",
    "# diff_upper_whisker = list_whisker[-1][1] - upper_whisker\n",
    "# diff_upper_whisker = float(\"{:10.9f}\".format(diff_upper_whisker))\n",
    "# print(diff_lower_whisker)\n",
    "# print(diff_upper_whisker)"
   ]
  },
  {
   "cell_type": "code",
   "execution_count": 124,
   "id": "cef921c7",
   "metadata": {},
   "outputs": [],
   "source": [
    "# X_train[:,-1] = X_train[:,-1] - diff_lower_whisker\n",
    "# X_train"
   ]
  },
  {
   "cell_type": "code",
   "execution_count": 125,
   "id": "acfa7334",
   "metadata": {},
   "outputs": [],
   "source": [
    "# lst = []\n",
    "# for i in X_train:\n",
    "#     sum = 0\n",
    "#     for j in i:\n",
    "#         sum += j\n",
    "#     lst.append(sum)\n",
    "# lst"
   ]
  },
  {
   "cell_type": "code",
   "execution_count": 126,
   "id": "2a9f416f",
   "metadata": {},
   "outputs": [],
   "source": [
    "# %matplotlib inline\n",
    "# B = plt.boxplot(X_train)\n",
    "# plt.show()"
   ]
  },
  {
   "cell_type": "code",
   "execution_count": 127,
   "id": "a4d7ed46",
   "metadata": {},
   "outputs": [
    {
     "data": {
      "text/plain": [
       "Text(0.5, 0, 'Data')"
      ]
     },
     "execution_count": 127,
     "metadata": {},
     "output_type": "execute_result"
    },
    {
     "data": {
      "image/png": "[encoded data removed]",
      "text/plain": [
       "<Figure size 432x288 with 1 Axes>"
      ]
     },
     "metadata": {
      "needs_background": "light"
     },
     "output_type": "display_data"
    }
   ],
   "source": [
    "plt.hist(X_train)\n",
    "plt.ylabel('Number of data')\n",
    "plt.xlabel('Data')"
   ]
  },
  {
   "cell_type": "code",
   "execution_count": 128,
   "id": "11376f5e",
   "metadata": {},
   "outputs": [],
   "source": [
    "# lst = []\n",
    "# for i in X_train[:,:-1]:\n",
    "#     sum = 0\n",
    "#     for j in i:\n",
    "#         sum += j\n",
    "#     lst.append(sum)\n",
    "# X_train[:,-1] = np.ones(100) - lst"
   ]
  },
  {
   "cell_type": "code",
   "execution_count": 129,
   "id": "256aa04c",
   "metadata": {},
   "outputs": [],
   "source": [
    "l0 = tf.keras.layers.Dense(units = 4, input_shape = [4])\n",
    "l1 = tf.keras.layers.Dense(units = 64)\n",
    "l2 = tf.keras.layers.Dense(units = 128)\n",
    "l3 = tf.keras.layers.Dense(units = 2)\n",
    "model = tf.keras.Sequential([l0,l1,l2,l3])"
   ]
  },
  {
   "cell_type": "code",
   "execution_count": 130,
   "id": "10a72d02",
   "metadata": {},
   "outputs": [
    {
     "data": {
      "text/plain": [
       "(100, 4)"
      ]
     },
     "execution_count": 130,
     "metadata": {},
     "output_type": "execute_result"
    }
   ],
   "source": [
    "X_train.shape"
   ]
  },
  {
   "cell_type": "code",
   "execution_count": 131,
   "id": "f21c2495",
   "metadata": {},
   "outputs": [
    {
     "name": "stdout",
     "output_type": "stream",
     "text": [
      "Model: \"sequential_3\"\n",
      "_________________________________________________________________\n",
      " Layer (type)                Output Shape              Param #   \n",
      "=================================================================\n",
      " dense_6 (Dense)             (None, 4)                 20        \n",
      "                                                                 \n",
      " dense_7 (Dense)             (None, 64)                320       \n",
      "                                                                 \n",
      " dense_8 (Dense)             (None, 128)               8320      \n",
      "                                                                 \n",
      " dense_9 (Dense)             (None, 2)                 258       \n",
      "                                                                 \n",
      "=================================================================\n",
      "Total params: 8,918\n",
      "Trainable params: 8,918\n",
      "Non-trainable params: 0\n",
      "_________________________________________________________________\n"
     ]
    }
   ],
   "source": [
    "model.summary()"
   ]
  },
  {
   "cell_type": "code",
   "execution_count": 132,
   "id": "10436b5f",
   "metadata": {},
   "outputs": [],
   "source": [
    "model.compile(\n",
    "    loss='mean_squared_error',\n",
    "    optimizer=keras.optimizers.Adam(),\n",
    "    metrics=[\"accuracy\"],\n",
    ")"
   ]
  },
  {
   "cell_type": "code",
   "execution_count": 133,
   "id": "1a4fdbb7",
   "metadata": {},
   "outputs": [],
   "source": [
    "history = model.fit(X_train, Y_train, epochs=500, verbose=False, validation_data=(X_validation, Y_validation))"
   ]
  },
  {
   "cell_type": "code",
   "execution_count": 134,
   "id": "ec872e08",
   "metadata": {},
   "outputs": [
    {
     "name": "stdout",
     "output_type": "stream",
     "text": [
      "0.9200000166893005\n"
     ]
    }
   ],
   "source": [
    "print(history.history['accuracy'][-1])"
   ]
  },
  {
   "cell_type": "code",
   "execution_count": 135,
   "id": "3c94eabf",
   "metadata": {},
   "outputs": [
    {
     "name": "stdout",
     "output_type": "stream",
     "text": [
      "WARNING:tensorflow:6 out of the last 9 calls to <function Model.make_predict_function.<locals>.predict_function at 0x000001A2EB5110D0> triggered tf.function retracing. Tracing is expensive and the excessive number of tracings could be due to (1) creating @tf.function repeatedly in a loop, (2) passing tensors with different shapes, (3) passing Python objects instead of tensors. For (1), please define your @tf.function outside of the loop. For (2), @tf.function has reduce_retracing=True option that can avoid unnecessary retracing. For (3), please refer to https://www.tensorflow.org/guide/function#controlling_retracing and https://www.tensorflow.org/api_docs/python/tf/function for  more details.\n",
      "1/1 [==============================] - 0s 79ms/step\n",
      "[[-0.7170823 -0.6261459]]\n"
     ]
    }
   ],
   "source": [
    "print(model.predict(np.array([0.168776848,0.13959502,0.161950127,0.529678005]).reshape(1,4)))"
   ]
  },
  {
   "cell_type": "code",
   "execution_count": 136,
   "id": "b7d8729d",
   "metadata": {},
   "outputs": [],
   "source": [
    "def build_model(hp):\n",
    "    model = keras.Sequential()\n",
    "    model.add(layers.Flatten())\n",
    "    model.add(\n",
    "        layers.Dense(\n",
    "            # Define the hyperparameter.\n",
    "            units=hp.Int(\"units\", min_value=8, max_value=256, step=16),\n",
    "            activation=\"relu\",\n",
    "        )\n",
    "    )\n",
    "    model.add(layers.Dense(2, activation=\"softmax\"))\n",
    "    model.compile(\n",
    "        optimizer=\"adam\", loss=tf.keras.losses.MeanSquaredError(), metrics=[\"accuracy\"],\n",
    "    )\n",
    "    return model"
   ]
  },
  {
   "cell_type": "code",
   "execution_count": 137,
   "id": "d079661f",
   "metadata": {},
   "outputs": [
    {
     "data": {
      "text/plain": [
       "<keras.engine.sequential.Sequential at 0x1a2f33ca670>"
      ]
     },
     "execution_count": 137,
     "metadata": {},
     "output_type": "execute_result"
    }
   ],
   "source": [
    "build_model(keras_tuner.HyperParameters())"
   ]
  },
  {
   "cell_type": "code",
   "execution_count": 138,
   "id": "ae29a586",
   "metadata": {},
   "outputs": [],
   "source": [
    "tuner = keras_tuner.RandomSearch(\n",
    "    hypermodel=build_model,\n",
    "    objective=\"val_accuracy\",\n",
    "    max_trials=3,\n",
    "    executions_per_trial=2,\n",
    "    overwrite=True,\n",
    "    directory=\"my_dir\",\n",
    ")"
   ]
  },
  {
   "cell_type": "code",
   "execution_count": 139,
   "id": "3c62df30",
   "metadata": {},
   "outputs": [
    {
     "name": "stdout",
     "output_type": "stream",
     "text": [
      "Search space summary\n",
      "Default search space size: 1\n",
      "units (Int)\n",
      "{'default': None, 'conditions': [], 'min_value': 8, 'max_value': 256, 'step': 16, 'sampling': None}\n"
     ]
    }
   ],
   "source": [
    "tuner.search_space_summary()"
   ]
  },
  {
   "cell_type": "code",
   "execution_count": 140,
   "id": "e9bea239",
   "metadata": {},
   "outputs": [
    {
     "name": "stdout",
     "output_type": "stream",
     "text": [
      "Trial 3 Complete [00h 00m 21s]\n",
      "val_accuracy: 0.9385000169277191\n",
      "\n",
      "Best val_accuracy So Far: 0.9504999816417694\n",
      "Total elapsed time: 00h 01m 03s\n",
      "INFO:tensorflow:Oracle triggered exit\n"
     ]
    }
   ],
   "source": [
    "tuner.search(X_train, Y_train, epochs=100, validation_data=(X_validation, Y_validation))"
   ]
  },
  {
   "cell_type": "code",
   "execution_count": 141,
   "id": "ebe38732",
   "metadata": {},
   "outputs": [],
   "source": [
    "# best_model = tuner.get_best_models(num_models=1)[0]\n",
    "# best_model.build(input_shape=[4])\n",
    "# best_model.summary()"
   ]
  },
  {
   "cell_type": "code",
   "execution_count": 142,
   "id": "be59395b",
   "metadata": {},
   "outputs": [
    {
     "name": "stdout",
     "output_type": "stream",
     "text": [
      "Results summary\n",
      "Results in my_dir\\untitled_project\n",
      "Showing 10 best trials\n",
      "<keras_tuner.engine.objective.Objective object at 0x000001A2F33DEAF0>\n",
      "Trial summary\n",
      "Hyperparameters:\n",
      "units: 248\n",
      "Score: 0.9504999816417694\n",
      "Trial summary\n",
      "Hyperparameters:\n",
      "units: 184\n",
      "Score: 0.9500000178813934\n",
      "Trial summary\n",
      "Hyperparameters:\n",
      "units: 88\n",
      "Score: 0.9385000169277191\n"
     ]
    }
   ],
   "source": [
    "#best_model.build(input_shape=[])\n",
    "tuner.results_summary()"
   ]
  },
  {
   "cell_type": "code",
   "execution_count": 143,
   "id": "2ea40c47",
   "metadata": {},
   "outputs": [
    {
     "name": "stdout",
     "output_type": "stream",
     "text": [
      "35/35 [==============================] - 1s 1ms/step - loss: 0.5458 - accuracy: 0.7564\n"
     ]
    },
    {
     "data": {
      "text/plain": [
       "<keras.callbacks.History at 0x1a2f036f3a0>"
      ]
     },
     "execution_count": 143,
     "metadata": {},
     "output_type": "execute_result"
    }
   ],
   "source": [
    "best_hps = tuner.get_best_hyperparameters(5)\n",
    "best_model = build_model(best_hps[0])\n",
    "x_all = np.concatenate((X_train, X_validation))\n",
    "y_all = np.concatenate((Y_train, Y_validation))\n",
    "best_model.fit(x=x_all, y=y_all, epochs=1)"
   ]
  },
  {
   "cell_type": "code",
   "execution_count": 144,
   "id": "3013e9f3",
   "metadata": {},
   "outputs": [
    {
     "name": "stdout",
     "output_type": "stream",
     "text": [
      "Model: \"sequential_1\"\n",
      "_________________________________________________________________\n",
      " Layer (type)                Output Shape              Param #   \n",
      "=================================================================\n",
      " flatten_1 (Flatten)         (None, 4)                 0         \n",
      "                                                                 \n",
      " dense_2 (Dense)             (None, 248)               1240      \n",
      "                                                                 \n",
      " dense_3 (Dense)             (None, 2)                 498       \n",
      "                                                                 \n",
      "=================================================================\n",
      "Total params: 1,738\n",
      "Trainable params: 1,738\n",
      "Non-trainable params: 0\n",
      "_________________________________________________________________\n"
     ]
    }
   ],
   "source": [
    "best_model.summary()"
   ]
  },
  {
   "cell_type": "code",
   "execution_count": 145,
   "id": "15645007",
   "metadata": {},
   "outputs": [
    {
     "name": "stdout",
     "output_type": "stream",
     "text": [
      "1/1 [==============================] - 0s 63ms/step\n",
      "[[0.49365035 0.5063497 ]]\n"
     ]
    }
   ],
   "source": [
    "print(best_model.predict(np.array([0.232169757,0.182380097,0.209651618,0.375798528]).reshape(1,4)))"
   ]
  },
  {
   "cell_type": "code",
   "execution_count": null,
   "id": "e8b8f209",
   "metadata": {},
   "outputs": [],
   "source": []
  }
 ],
 "metadata": {
  "kernelspec": {
   "display_name": "Python 3 (ipykernel)",
   "language": "python",
   "name": "python3"
  },
  "language_info": {
   "codemirror_mode": {
    "name": "ipython",
    "version": 3
   },
   "file_extension": ".py",
   "mimetype": "text/x-python",
   "name": "python",
   "nbconvert_exporter": "python",
   "pygments_lexer": "ipython3",
   "version": "3.8.0"
  }
 },
 "nbformat": 4,
 "nbformat_minor": 5
}
