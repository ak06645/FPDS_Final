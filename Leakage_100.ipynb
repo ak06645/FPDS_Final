{
 "cells": [
  {
   "cell_type": "code",
   "execution_count": 178,
   "id": "2f65f9ce",
   "metadata": {},
   "outputs": [],
   "source": [
    "import tensorflow as tf\n",
    "import numpy as np\n",
    "import pandas as pd\n",
    "import keras_tuner\n",
    "from tensorflow import keras\n",
    "from tensorflow.keras import layers\n",
    "import matplotlib.pyplot as plt\n",
    "import seaborn as sns"
   ]
  },
  {
   "cell_type": "code",
   "execution_count": 179,
   "id": "f1e52263",
   "metadata": {},
   "outputs": [],
   "source": [
    "#leakage_dataset_train_100 = pd.read_csv(r\"Leakage Detection\\leakage_dataset_train_100.csv\")\n",
    "leakage_dataset_train_1000 = pd.read_csv(r\"Leakage Detection\\leakage_dataset_train_1000.csv\")\n",
    "leakage_dataset_validation_1000 = pd.read_csv(r\"Leakage Detection\\leakage_dataset_validation_1000.csv\")"
   ]
  },
  {
   "cell_type": "code",
   "execution_count": 180,
   "id": "66664f8c",
   "metadata": {},
   "outputs": [],
   "source": [
    "X_train = leakage_dataset_train_1000[['mfc1', 'mfc2', 'mfc3', 'mfc4']].to_numpy()\n",
    "Y_train = leakage_dataset_train_1000[['y1', 'y2']].to_numpy()"
   ]
  },
  {
   "cell_type": "code",
   "execution_count": 181,
   "id": "d11a0e9a",
   "metadata": {},
   "outputs": [],
   "source": [
    "X_validation = leakage_dataset_validation_1000[['mfc1', 'mfc2', 'mfc3', 'mfc4']].to_numpy()\n",
    "Y_validation = leakage_dataset_validation_1000[['y1', 'y2']].to_numpy()"
   ]
  },
  {
   "cell_type": "code",
   "execution_count": 182,
   "id": "5204e083",
   "metadata": {},
   "outputs": [
    {
     "data": {
      "text/plain": [
       "y1      0\n",
       "y2      0\n",
       "mfc1    0\n",
       "mfc2    0\n",
       "mfc3    0\n",
       "mfc4    0\n",
       "dtype: int64"
      ]
     },
     "execution_count": 182,
     "metadata": {},
     "output_type": "execute_result"
    }
   ],
   "source": [
    "leakage_dataset_train_100.isnull().sum()"
   ]
  },
  {
   "cell_type": "code",
   "execution_count": 183,
   "id": "a1ac842f",
   "metadata": {},
   "outputs": [
    {
     "data": {
      "text/plain": [
       "Text(0.5, 0, 'Data')"
      ]
     },
     "execution_count": 183,
     "metadata": {},
     "output_type": "execute_result"
    },
    {
     "data": {
      "image/png": "[encoded data removed]",
      "text/plain": [
       "<Figure size 432x288 with 1 Axes>"
      ]
     },
     "metadata": {
      "needs_background": "light"
     },
     "output_type": "display_data"
    }
   ],
   "source": [
    "plt.hist(X_train)\n",
    "plt.ylabel('Number of data')\n",
    "plt.xlabel('Data')"
   ]
  },
  {
   "cell_type": "code",
   "execution_count": 184,
   "id": "babf702a",
   "metadata": {},
   "outputs": [
    {
     "data": {
      "image/png": "[encoded data removed]",
      "text/plain": [
       "<Figure size 432x288 with 1 Axes>"
      ]
     },
     "metadata": {
      "needs_background": "light"
     },
     "output_type": "display_data"
    }
   ],
   "source": [
    "%matplotlib inline\n",
    "B = plt.boxplot(X_train)\n",
    "plt.show()"
   ]
  },
  {
   "cell_type": "code",
   "execution_count": 185,
   "id": "aeedb303",
   "metadata": {},
   "outputs": [
    {
     "data": {
      "text/plain": [
       "[array([0.15586604, 0.04945534]),\n",
       " array([0.27686248, 0.45413314]),\n",
       " array([0.15503371, 0.06045403]),\n",
       " array([0.28369336, 0.47453284]),\n",
       " array([0.15537894, 0.04798132]),\n",
       " array([0.29311002, 0.49867403]),\n",
       " array([0.20332851, 0.10427373]),\n",
       " array([0.32852423, 0.51399843])]"
      ]
     },
     "execution_count": 185,
     "metadata": {},
     "output_type": "execute_result"
    }
   ],
   "source": [
    "list_whisker = [item.get_ydata() for item in B['whiskers']]\n",
    "list_whisker"
   ]
  },
  {
   "cell_type": "code",
   "execution_count": 186,
   "id": "84083c45",
   "metadata": {},
   "outputs": [
    {
     "data": {
      "image/png": "[encoded data removed]",
      "text/plain": [
       "<Figure size 432x288 with 1 Axes>"
      ]
     },
     "metadata": {
      "needs_background": "light"
     },
     "output_type": "display_data"
    }
   ],
   "source": [
    "%matplotlib inline\n",
    "B1 = plt.boxplot(X_validation)\n",
    "plt.show()"
   ]
  },
  {
   "cell_type": "code",
   "execution_count": 187,
   "id": "3a28f9f8",
   "metadata": {},
   "outputs": [
    {
     "data": {
      "text/plain": [
       "[array([0.16234618, 0.05349716]),\n",
       " array([0.2993559 , 0.50403049]),\n",
       " array([0.16344416, 0.04891348]),\n",
       " array([0.29840857, 0.49760057]),\n",
       " array([0.16077478, 0.05659426]),\n",
       " array([0.28779415, 0.47630593]),\n",
       " array([0.16270096, 0.04941728]),\n",
       " array([0.29547214, 0.49441948])]"
      ]
     },
     "execution_count": 187,
     "metadata": {},
     "output_type": "execute_result"
    }
   ],
   "source": [
    "list_whisker_val = [item.get_ydata() for item in B1['whiskers']]\n",
    "list_whisker_val"
   ]
  },
  {
   "cell_type": "code",
   "execution_count": 188,
   "id": "438bf0dc",
   "metadata": {},
   "outputs": [
    {
     "data": {
      "text/plain": [
       "0.03721770183359886"
      ]
     },
     "execution_count": 188,
     "metadata": {},
     "output_type": "execute_result"
    }
   ],
   "source": [
    "diff1 = list_whisker[-2][1] - list_whisker_val[-2][1]\n",
    "diff2 = list_whisker[-1][1] - list_whisker_val[-1][1]\n",
    "diff = (diff1+diff2)/2\n",
    "diff"
   ]
  },
  {
   "cell_type": "code",
   "execution_count": 189,
   "id": "5a128440",
   "metadata": {},
   "outputs": [],
   "source": [
    "X_train[:,-1] = X_train[:,-1] - diff\n",
    "X_train[:,:-1] = X_train[:,:-1] + diff/3"
   ]
  },
  {
   "cell_type": "code",
   "execution_count": 190,
   "id": "31dfcb33",
   "metadata": {},
   "outputs": [
    {
     "data": {
      "image/png": "[encoded data removed]",
      "text/plain": [
       "<Figure size 432x288 with 1 Axes>"
      ]
     },
     "metadata": {
      "needs_background": "light"
     },
     "output_type": "display_data"
    },
    {
     "data": {
      "text/plain": [
       "[array([0.16827194, 0.06186124]),\n",
       " array([0.28926838, 0.46653904]),\n",
       " array([0.16743962, 0.07285993]),\n",
       " array([0.29609926, 0.48693874]),\n",
       " array([0.16778484, 0.06038722]),\n",
       " array([0.30551592, 0.51107993]),\n",
       " array([0.1661108 , 0.06705603]),\n",
       " array([0.29130653, 0.47678073])]"
      ]
     },
     "execution_count": 190,
     "metadata": {},
     "output_type": "execute_result"
    }
   ],
   "source": [
    "%matplotlib inline\n",
    "B2 = plt.boxplot(X_train)\n",
    "plt.show()\n",
    "list_whisker_new = [item.get_ydata() for item in B2['whiskers']]\n",
    "list_whisker_new"
   ]
  },
  {
   "cell_type": "code",
   "execution_count": 191,
   "id": "b533e4a9",
   "metadata": {},
   "outputs": [],
   "source": [
    "# count = 0\n",
    "# lower_whisker = 0\n",
    "# upper_whisker = 0\n",
    "# for i in list_whisker[:-2]:\n",
    "#     if count%2 == 0:\n",
    "#         lower_whisker = lower_whisker + i[1]\n",
    "#     if count%2 != 0:\n",
    "#         upper_whisker += i[1]\n",
    "#     count += 1\n",
    "    \n",
    "# lower_whisker = lower_whisker/3\n",
    "# upper_whisker = upper_whisker/3\n",
    "\n",
    "# print(lower_whisker)\n",
    "# print(upper_whisker)"
   ]
  },
  {
   "cell_type": "code",
   "execution_count": 192,
   "id": "14fe142b",
   "metadata": {},
   "outputs": [],
   "source": [
    "# diff_lower_whisker = list_whisker[-2][1] - lower_whisker\n",
    "# diff_lower_whisker = float(\"{:10.9f}\".format(diff_lower_whisker))\n",
    "# diff_upper_whisker = list_whisker[-1][1] - upper_whisker\n",
    "# diff_upper_whisker = float(\"{:10.9f}\".format(diff_upper_whisker))\n",
    "# print(diff_lower_whisker)\n",
    "# print(diff_upper_whisker)"
   ]
  },
  {
   "cell_type": "code",
   "execution_count": 193,
   "id": "cef921c7",
   "metadata": {},
   "outputs": [],
   "source": [
    "# X_train[:,-1] = X_train[:,-1] - diff_lower_whisker\n",
    "# X_train"
   ]
  },
  {
   "cell_type": "code",
   "execution_count": 194,
   "id": "acfa7334",
   "metadata": {},
   "outputs": [],
   "source": [
    "# lst = []\n",
    "# for i in X_train:\n",
    "#     sum = 0\n",
    "#     for j in i:\n",
    "#         sum += j\n",
    "#     lst.append(sum)\n",
    "# lst"
   ]
  },
  {
   "cell_type": "code",
   "execution_count": 195,
   "id": "2a9f416f",
   "metadata": {},
   "outputs": [],
   "source": [
    "# %matplotlib inline\n",
    "# B = plt.boxplot(X_train)\n",
    "# plt.show()"
   ]
  },
  {
   "cell_type": "code",
   "execution_count": 196,
   "id": "a4d7ed46",
   "metadata": {},
   "outputs": [
    {
     "data": {
      "text/plain": [
       "Text(0.5, 0, 'Data')"
      ]
     },
     "execution_count": 196,
     "metadata": {},
     "output_type": "execute_result"
    },
    {
     "data": {
      "image/png": "[encoded data removed]",
      "text/plain": [
       "<Figure size 432x288 with 1 Axes>"
      ]
     },
     "metadata": {
      "needs_background": "light"
     },
     "output_type": "display_data"
    }
   ],
   "source": [
    "plt.hist(X_train)\n",
    "plt.ylabel('Number of data')\n",
    "plt.xlabel('Data')"
   ]
  },
  {
   "cell_type": "code",
   "execution_count": 197,
   "id": "11376f5e",
   "metadata": {},
   "outputs": [],
   "source": [
    "# lst = []\n",
    "# for i in X_train[:,:-1]:\n",
    "#     sum = 0\n",
    "#     for j in i:\n",
    "#         sum += j\n",
    "#     lst.append(sum)\n",
    "# X_train[:,-1] = np.ones(100) - lst"
   ]
  },
  {
   "cell_type": "code",
   "execution_count": 199,
   "id": "256aa04c",
   "metadata": {},
   "outputs": [],
   "source": [
    "# l0 = tf.keras.layers.Dense(units = 4, input_shape = [4])\n",
    "# l1 = tf.keras.layers.Dense(units = 64)\n",
    "# l2 = tf.keras.layers.Dense(units = 128)\n",
    "# l3 = tf.keras.layers.Dense(units = 2)\n",
    "# model = tf.keras.Sequential([l0,l1,l2,l3])"
   ]
  },
  {
   "cell_type": "code",
   "execution_count": 163,
   "id": "10a72d02",
   "metadata": {},
   "outputs": [],
   "source": [
    "# X_train.shape"
   ]
  },
  {
   "cell_type": "code",
   "execution_count": 200,
   "id": "f21c2495",
   "metadata": {},
   "outputs": [
    {
     "name": "stdout",
     "output_type": "stream",
     "text": [
      "Model: \"sequential_1\"\n",
      "_________________________________________________________________\n",
      " Layer (type)                Output Shape              Param #   \n",
      "=================================================================\n",
      " dense_2 (Dense)             (None, 4)                 20        \n",
      "                                                                 \n",
      " dense_3 (Dense)             (None, 64)                320       \n",
      "                                                                 \n",
      " dense_4 (Dense)             (None, 128)               8320      \n",
      "                                                                 \n",
      " dense_5 (Dense)             (None, 2)                 258       \n",
      "                                                                 \n",
      "=================================================================\n",
      "Total params: 8,918\n",
      "Trainable params: 8,918\n",
      "Non-trainable params: 0\n",
      "_________________________________________________________________\n"
     ]
    }
   ],
   "source": [
    "# model.summary()"
   ]
  },
  {
   "cell_type": "code",
   "execution_count": 201,
   "id": "10436b5f",
   "metadata": {},
   "outputs": [],
   "source": [
    "# model.compile(\n",
    "#     loss='mean_squared_error',\n",
    "#     optimizer=keras.optimizers.Adam(),\n",
    "#     metrics=[\"accuracy\"],\n",
    "# )"
   ]
  },
  {
   "cell_type": "code",
   "execution_count": 206,
   "id": "1a4fdbb7",
   "metadata": {},
   "outputs": [],
   "source": [
    "# history = model.fit(X_train, Y_train, epochs=100, verbose=False, validation_data=(X_validation, Y_validation))"
   ]
  },
  {
   "cell_type": "code",
   "execution_count": 207,
   "id": "ec872e08",
   "metadata": {},
   "outputs": [
    {
     "name": "stdout",
     "output_type": "stream",
     "text": [
      "0.9350000023841858\n"
     ]
    }
   ],
   "source": [
    "# print(history.history['accuracy'][-1])"
   ]
  },
  {
   "cell_type": "code",
   "execution_count": 208,
   "id": "3c94eabf",
   "metadata": {},
   "outputs": [
    {
     "name": "stdout",
     "output_type": "stream",
     "text": [
      "1/1 [==============================] - 0s 15ms/step\n",
      "[[-0.47618982  0.17218228]]\n"
     ]
    }
   ],
   "source": [
    "# print(model.predict(np.array([0.365104949,0.187123712,0.174337773,0.273433566]).reshape(1,4)))"
   ]
  },
  {
   "cell_type": "code",
   "execution_count": 209,
   "id": "b7d8729d",
   "metadata": {},
   "outputs": [],
   "source": [
    "def build_model(hp):\n",
    "    model = keras.Sequential()\n",
    "    model.add(layers.Flatten())\n",
    "    model.add(tf.keras.layers.InputLayer(input_shape=(4,)))\n",
    "    model.add(\n",
    "        layers.Dense(\n",
    "            # Define the hyperparameter.\n",
    "            units=hp.Int(\"units\", min_value=8, max_value=128, step=16),\n",
    "            activation=\"relu\",\n",
    "        )\n",
    "    )\n",
    "    model.add(layers.Dropout(rate=0.25))\n",
    "    model.add(layers.Dense(2, activation=\"softmax\"))\n",
    "    learning_rate = hp.Float(\"lr\", min_value=1e-4, max_value=1e-2, sampling=\"log\")\n",
    "    model.compile(\n",
    "        optimizer=keras.optimizers.Adam(learning_rate=learning_rate),\n",
    "        loss=tf.keras.losses.MeanSquaredError(), metrics=[\"accuracy\"],\n",
    "    )\n",
    "    return model"
   ]
  },
  {
   "cell_type": "code",
   "execution_count": 210,
   "id": "d079661f",
   "metadata": {},
   "outputs": [
    {
     "data": {
      "text/plain": [
       "<keras.engine.sequential.Sequential at 0x1fd87446790>"
      ]
     },
     "execution_count": 210,
     "metadata": {},
     "output_type": "execute_result"
    }
   ],
   "source": [
    "build_model(keras_tuner.HyperParameters())"
   ]
  },
  {
   "cell_type": "code",
   "execution_count": 211,
   "id": "ae29a586",
   "metadata": {},
   "outputs": [],
   "source": [
    "tuner = keras_tuner.RandomSearch(\n",
    "    hypermodel=build_model,\n",
    "    objective=\"val_accuracy\",\n",
    "    max_trials=3,\n",
    "    executions_per_trial=2,\n",
    "    overwrite=True,\n",
    "    directory=\"my_dir\",\n",
    ")"
   ]
  },
  {
   "cell_type": "code",
   "execution_count": 212,
   "id": "3c62df30",
   "metadata": {},
   "outputs": [
    {
     "name": "stdout",
     "output_type": "stream",
     "text": [
      "Search space summary\n",
      "Default search space size: 2\n",
      "units (Int)\n",
      "{'default': None, 'conditions': [], 'min_value': 8, 'max_value': 128, 'step': 16, 'sampling': None}\n",
      "lr (Float)\n",
      "{'default': 0.0001, 'conditions': [], 'min_value': 0.0001, 'max_value': 0.01, 'step': None, 'sampling': 'log'}\n"
     ]
    }
   ],
   "source": [
    "tuner.search_space_summary()"
   ]
  },
  {
   "cell_type": "code",
   "execution_count": 213,
   "id": "e9bea239",
   "metadata": {},
   "outputs": [
    {
     "name": "stdout",
     "output_type": "stream",
     "text": [
      "Trial 3 Complete [00h 00m 16s]\n",
      "val_accuracy: 0.9535000026226044\n",
      "\n",
      "Best val_accuracy So Far: 0.9535000026226044\n",
      "Total elapsed time: 00h 00m 49s\n",
      "INFO:tensorflow:Oracle triggered exit\n"
     ]
    }
   ],
   "source": [
    "tuner.search(X_train, Y_train, epochs=100, validation_data=(X_validation, Y_validation))"
   ]
  },
  {
   "cell_type": "code",
   "execution_count": 214,
   "id": "ebe38732",
   "metadata": {},
   "outputs": [
    {
     "name": "stdout",
     "output_type": "stream",
     "text": [
      "Model: \"sequential\"\n",
      "_________________________________________________________________\n",
      " Layer (type)                Output Shape              Param #   \n",
      "=================================================================\n",
      " flatten (Flatten)           (None, 4)                 0         \n",
      "                                                                 \n",
      " input_1 (InputLayer)        multiple                  0         \n",
      "                                                                 \n",
      " dense (Dense)               (None, 72)                360       \n",
      "                                                                 \n",
      " dropout (Dropout)           (None, 72)                0         \n",
      "                                                                 \n",
      " dense_1 (Dense)             (None, 2)                 146       \n",
      "                                                                 \n",
      "=================================================================\n",
      "Total params: 506\n",
      "Trainable params: 506\n",
      "Non-trainable params: 0\n",
      "_________________________________________________________________\n"
     ]
    }
   ],
   "source": [
    "best_model = tuner.get_best_models(num_models=1)[0]\n",
    "best_model.build(input_shape=(None, 4))\n",
    "best_model.summary()"
   ]
  },
  {
   "cell_type": "code",
   "execution_count": 215,
   "id": "be59395b",
   "metadata": {},
   "outputs": [
    {
     "name": "stdout",
     "output_type": "stream",
     "text": [
      "Results summary\n",
      "Results in my_dir\\untitled_project\n",
      "Showing 10 best trials\n",
      "<keras_tuner.engine.objective.Objective object at 0x000001FD88D4B370>\n",
      "Trial summary\n",
      "Hyperparameters:\n",
      "units: 72\n",
      "lr: 0.0013653402122746191\n",
      "Score: 0.9535000026226044\n",
      "Trial summary\n",
      "Hyperparameters:\n",
      "units: 8\n",
      "lr: 0.0016514956852749707\n",
      "Score: 0.953000009059906\n",
      "Trial summary\n",
      "Hyperparameters:\n",
      "units: 120\n",
      "lr: 0.0002115705594649727\n",
      "Score: 0.953000009059906\n"
     ]
    }
   ],
   "source": [
    "#best_model.build(input_shape=[])\n",
    "tuner.results_summary()"
   ]
  },
  {
   "cell_type": "code",
   "execution_count": 216,
   "id": "2ea40c47",
   "metadata": {},
   "outputs": [],
   "source": [
    "# best_hps = tuner.get_best_hyperparameters(5)\n",
    "# best_model = build_model(best_hps[0])\n",
    "# x_all = np.concatenate((X_train, X_validation))\n",
    "# y_all = np.concatenate((Y_train, Y_validation))\n",
    "# best_model.fit(x=x_all, y=y_all, epochs=1)\n",
    "#best_model.summary()"
   ]
  },
  {
   "cell_type": "code",
   "execution_count": 217,
   "id": "15645007",
   "metadata": {},
   "outputs": [
    {
     "name": "stdout",
     "output_type": "stream",
     "text": [
      "1/1 [==============================] - 0s 38ms/step\n",
      "[[0.5918924  0.40810755]]\n"
     ]
    }
   ],
   "source": [
    "print(best_model.predict(np.array([0.156413272,0.138724925,0.189124339,0.515737464]).reshape(1,4)))"
   ]
  },
  {
   "cell_type": "code",
   "execution_count": null,
   "id": "a87bf3c5",
   "metadata": {},
   "outputs": [],
   "source": []
  }
 ],
 "metadata": {
  "kernelspec": {
   "display_name": "Python 3 (ipykernel)",
   "language": "python",
   "name": "python3"
  },
  "language_info": {
   "codemirror_mode": {
    "name": "ipython",
    "version": 3
   },
   "file_extension": ".py",
   "mimetype": "text/x-python",
   "name": "python",
   "nbconvert_exporter": "python",
   "pygments_lexer": "ipython3",
   "version": "3.8.0"
  }
 },
 "nbformat": 4,
 "nbformat_minor": 5
}
